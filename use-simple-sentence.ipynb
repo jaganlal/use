{
 "cells": [
  {
   "cell_type": "code",
   "execution_count": 1,
   "metadata": {},
   "outputs": [],
   "source": [
    "import tensorflow as tf\n",
    "import tensorflow_hub as hub\n",
    "import numpy as np\n",
    "import pandas as pd"
   ]
  },
  {
   "cell_type": "code",
   "execution_count": null,
   "metadata": {},
   "outputs": [],
   "source": [
    "#download the model to local so it can be used again and again\n",
    "# !mkdir ./sentence_wise_email\n",
    "# Download the module, and uncompress it to the destination folder. \n",
    "\n",
    "# DO NOT DOWNLOAD IT EACH TIME, IF YOU HAD DOWNLOADED IT ONCE, ITS ENOUGH\n",
    "\n",
    "# !curl -L \"https://tfhub.dev/google/universal-sentence-encoder-large/3?tf-hub-format=compressed\" | tar -zxvC ./sentence_wise_email"
   ]
  },
  {
   "cell_type": "code",
   "execution_count": 2,
   "metadata": {},
   "outputs": [],
   "source": [
    "#Function so that one session can be called multiple times. \n",
    "#Useful while multiple calls need to be done for embedding.\n",
    "import tensorflow as tf\n",
    "import tensorflow_hub as hub\n",
    "\n",
    "# Reduce logging output.\n",
    "tf.logging.set_verbosity(tf.logging.ERROR)\n",
    "\n",
    "def embed_useT(module):\n",
    "    with tf.Graph().as_default():\n",
    "        sentences = tf.placeholder(tf.string)\n",
    "        embed = hub.Module(module)\n",
    "        embeddings = embed(sentences)\n",
    "        session = tf.train.MonitoredSession()\n",
    "    return lambda x: session.run(embeddings, {sentences: x})\n",
    "\n",
    "embed_fn = embed_useT('./sentence_wise_email')"
   ]
  },
  {
   "cell_type": "code",
   "execution_count": 3,
   "metadata": {},
   "outputs": [],
   "source": [
    "messages = [\n",
    "    \"How old are you\",\n",
    "    \"How are you\",\n",
    "    \"What is your age\"\n",
    "]\n",
    "\n",
    "encoding_matrix = embed_fn(messages)\n"
   ]
  },
  {
   "cell_type": "code",
   "execution_count": 4,
   "metadata": {},
   "outputs": [
    {
     "data": {
      "text/plain": "array([[1.        , 0.28336534, 0.31925762],\n       [0.28336534, 0.9999997 , 0.90705013],\n       [0.31925762, 0.90705013, 1.0000005 ]], dtype=float32)"
     },
     "execution_count": 4,
     "metadata": {},
     "output_type": "execute_result"
    }
   ],
   "source": [
    "np.inner(encoding_matrix, encoding_matrix)"
   ]
  },
  {
   "cell_type": "code",
   "execution_count": 5,
   "metadata": {},
   "outputs": [],
   "source": [
    "from math import*\n",
    "from decimal import Decimal\n",
    "\n",
    "class Similarity():\n",
    "    def euclidean_distance(self,x,y):\n",
    "\n",
    "        \"\"\" return euclidean distance between two lists \"\"\"\n",
    "\n",
    "        return sqrt(sum(pow(a-b,2) for a, b in zip(x, y)))\n",
    "\n",
    "    def manhattan_distance(self,x,y):\n",
    "\n",
    "        \"\"\" return manhattan distance between two lists \"\"\"\n",
    "\n",
    "        return sum(abs(a-b) for a,b in zip(x,y))\n",
    "\n",
    "    def minkowski_distance(self,x,y,p_value):\n",
    "\n",
    "        \"\"\" return minkowski distance between two lists \"\"\"\n",
    "\n",
    "        return self.nth_root(sum(pow(abs(a-b),p_value) for a,b in zip(x, y)),\n",
    "           p_value)\n",
    "\n",
    "    def nth_root(self,value, n_root):\n",
    "\n",
    "        \"\"\" returns the n_root of an value \"\"\"\n",
    "\n",
    "        root_value = 1/float(n_root)\n",
    "        return round (Decimal(value) ** Decimal(root_value),3)\n",
    "\n",
    "    def cosine_similarity(self,x,y):\n",
    "\n",
    "        \"\"\" return cosine similarity between two lists \"\"\"\n",
    "\n",
    "        numerator = sum(a*b for a,b in zip(x,y))\n",
    "        denominator = self.square_rooted(x)*self.square_rooted(y)\n",
    "        return round(numerator/float(denominator),3)\n",
    "\n",
    "    def square_rooted(self,x):\n",
    "\n",
    "        \"\"\" return 3 rounded square rooted value \"\"\"\n",
    "\n",
    "        return round(sqrt(sum([a*a for a in x])),3)"
   ]
  },
  {
   "cell_type": "code",
   "execution_count": 10,
   "metadata": {},
   "outputs": [],
   "source": [
    "def recommendTopSentences(sentenceIndex):\n",
    "    similarities = []\n",
    "    measures = Similarity()\n",
    "    for index, sentence in enumerate(messages):\n",
    "        if(index != sentenceIndex):\n",
    "            similarities.append({'score': measures.cosine_similarity(encoding_matrix[sentenceIndex], encoding_matrix[index]), 'title': sentence})\n",
    "    return similarities\n"
   ]
  },
  {
   "cell_type": "code",
   "execution_count": 11,
   "metadata": {},
   "outputs": [
    {
     "data": {
      "text/plain": "0.283"
     },
     "execution_count": 11,
     "metadata": {},
     "output_type": "execute_result"
    }
   ],
   "source": [
    "measures = Similarity()\n",
    "measures.cosine_similarity(encoding_matrix[0],encoding_matrix[1])"
   ]
  },
  {
   "cell_type": "code",
   "execution_count": 13,
   "metadata": {},
   "outputs": [
    {
     "name": "stdout",
     "output_type": "stream",
     "text": "Similar sentence to:  How old are you\n[{'score': 0.907, 'title': 'What is your age'}, {'score': 0.283, 'title': 'How are you'}]\n"
    }
   ],
   "source": [
    "sentenceIndex = 1\n",
    "sentence = messages[sentenceIndex]\n",
    "print('Similar sentence to: ', sentence)\n",
    "similarities = recommendTopSentences(sentenceIndex)\n",
    "sentencesRecommended = sorted(similarities, key = lambda i: i['score'], reverse=True)\n",
    "print(sentencesRecommended[:10])"
   ]
  },
  {
   "cell_type": "code",
   "execution_count": null,
   "metadata": {},
   "outputs": [],
   "source": []
  }
 ],
 "metadata": {
  "file_extension": ".py",
  "kernelspec": {
   "display_name": "Python 3.7.6 64-bit ('tensorflow_env': conda)",
   "language": "python",
   "name": "python37664bittensorflowenvconda7abfa4292e63449e86f2f09e04d909cd"
  },
  "language_info": {
   "codemirror_mode": {
    "name": "ipython",
    "version": 3
   },
   "file_extension": ".py",
   "mimetype": "text/x-python",
   "name": "python",
   "nbconvert_exporter": "python",
   "pygments_lexer": "ipython3",
   "version": "3.7.6-final"
  },
  "mimetype": "text/x-python",
  "name": "python",
  "npconvert_exporter": "python",
  "pygments_lexer": "ipython3",
  "version": 3
 },
 "nbformat": 4,
 "nbformat_minor": 2
}